{
 "cells": [
  {
   "cell_type": "code",
   "execution_count": 13,
   "id": "d5892ed9-a476-44a6-b053-07d2955e1a34",
   "metadata": {},
   "outputs": [],
   "source": [
    "import torch\n",
    "from model_pytorch import MySSD"
   ]
  },
  {
   "cell_type": "code",
   "execution_count": 14,
   "id": "226fcf88-4a3a-410e-88ad-8d7046a71150",
   "metadata": {},
   "outputs": [],
   "source": [
    "import tensorflow as tf"
   ]
  },
  {
   "cell_type": "code",
   "execution_count": 15,
   "id": "5730843c-8573-449b-8410-88fea7bdb00d",
   "metadata": {},
   "outputs": [],
   "source": [
    "torch_model = MySSD(in_channels=3, num_classes=1)"
   ]
  },
  {
   "cell_type": "code",
   "execution_count": 6,
   "id": "4807fd63-b476-43a9-a1e5-c44376f020da",
   "metadata": {},
   "outputs": [
    {
     "name": "stdout",
     "output_type": "stream",
     "text": [
      "WARNING:tensorflow:No training configuration found in the save file, so the model was *not* compiled. Compile it manually.\n"
     ]
    }
   ],
   "source": [
    "keras_model =tf.keras.models.load_model(\"kerasModel.h5\")"
   ]
  },
  {
   "cell_type": "code",
   "execution_count": 17,
   "id": "e0ab81e9-7871-495b-9fdb-f1a10afa9e4e",
   "metadata": {},
   "outputs": [],
   "source": [
    "sample_input = torch.rand((1, 3, 256, 256))"
   ]
  },
  {
   "cell_type": "code",
   "execution_count": 18,
   "id": "8c44a70f-4daf-4ed8-b889-3e5363932a93",
   "metadata": {},
   "outputs": [],
   "source": [
    "torch.onnx.export(\n",
    "    torch_model,                  # PyTorch Model\n",
    "    sample_input,                    # Input tensor\n",
    "    \"model_onnx.onnx\",        # Output file (eg. 'output_model.onnx')\n",
    "    opset_version=12,       # Operator support version\n",
    "    input_names=['input'],   # Input tensor name (arbitary)\n",
    "    output_names=['output'] # Output tensor name (arbitary)\n",
    ")"
   ]
  },
  {
   "cell_type": "code",
   "execution_count": null,
   "id": "0c441095-5f5d-44a1-aa6d-def41155c9dd",
   "metadata": {},
   "outputs": [],
   "source": [
    "import onnx\n",
    "\n",
    "# Load the ONNX model\n",
    "model = onnx.load(\"model_onnx.onnx\")\n",
    "\n",
    "# Check that the IR is well formed\n",
    "onnx.checker.check_model(model)\n",
    "\n",
    "# Print a Human readable representation of the graph\n",
    "onnx.helper.printable_graph(model.graph)"
   ]
  }
 ],
 "metadata": {
  "kernelspec": {
   "display_name": "Python 3 (ipykernel)",
   "language": "python",
   "name": "python3"
  },
  "language_info": {
   "codemirror_mode": {
    "name": "ipython",
    "version": 3
   },
   "file_extension": ".py",
   "mimetype": "text/x-python",
   "name": "python",
   "nbconvert_exporter": "python",
   "pygments_lexer": "ipython3",
   "version": "3.7.0"
  }
 },
 "nbformat": 4,
 "nbformat_minor": 5
}

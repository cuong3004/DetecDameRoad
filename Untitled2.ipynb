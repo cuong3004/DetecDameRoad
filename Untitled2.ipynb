{
 "cells": [
  {
   "cell_type": "code",
   "execution_count": 23,
   "id": "7e613860-a80c-400a-bb58-7c97e3be3638",
   "metadata": {},
   "outputs": [],
   "source": [
    "import torch\n",
    "import torch.nn as nn\n",
    "import numpy as np\n",
    "from pprint import pprint"
   ]
  },
  {
   "cell_type": "code",
   "execution_count": 24,
   "id": "4985988e-0f66-484f-8ae1-1b0e349e7d82",
   "metadata": {},
   "outputs": [],
   "source": [
    "import tensorflow as tf \n",
    "from tensorflow.keras import layers"
   ]
  },
  {
   "cell_type": "code",
   "execution_count": 25,
   "id": "75d8d121-5c48-4f38-adfb-2e64a75e2aac",
   "metadata": {},
   "outputs": [
    {
     "name": "stdout",
     "output_type": "stream",
     "text": [
      "(1, 300, 300, 3)\n"
     ]
    }
   ],
   "source": [
    "input_tf = np.random.rand(1,300,300,3).astype(\"float32\")\n",
    "print(input_tf.shape)\n",
    "input_torch = torch.from_numpy(input_tf.transpose(0,3,1,2))"
   ]
  },
  {
   "cell_type": "code",
   "execution_count": 26,
   "id": "059c70d4-3b44-4258-96ab-d2bc3a2756f6",
   "metadata": {},
   "outputs": [],
   "source": [
    "class Block_keras(tf.keras.Model):\n",
    "\n",
    "    def __init__(self, out_dim_1, out_dim_2):\n",
    "        super().__init__()\n",
    "        \n",
    "        \n",
    "        self.conv1 = layers.Conv2D(out_dim_1, (3,3), padding=\"same\")\n",
    "        self.conv2 = layers.Conv2D(out_dim_2, (3,3), padding=\"same\")\n",
    "        self.bn1 = layers.BatchNormalization()\n",
    "        self.bn2 = layers.BatchNormalization()\n",
    "        \n",
    "        \n",
    "    def call(self, X):\n",
    "        \n",
    "        X = tf.nn.relu(self.bn1(self.conv1(X)))\n",
    "        X = tf.nn.relu(self.bn2(self.conv2(X)))\n",
    "        \n",
    "#         X = self.conv1(X)\n",
    "#         X = self.conv2(X)\n",
    "        \n",
    "        return X\n",
    "    \n",
    "    @property\n",
    "    def _get_layers(self):\n",
    "        name_layer = [\"conv1\", \"conv2\"]\n",
    "        \n",
    "#         [getattr(self, i) for i in name_layer]\n",
    "        \n",
    "        return [getattr(self, i) for i in name_layer]\n"
   ]
  },
  {
   "cell_type": "code",
   "execution_count": null,
   "id": "b55978a7-e5b8-4622-96b8-ff9ac39ca3b3",
   "metadata": {},
   "outputs": [],
   "source": []
  },
  {
   "cell_type": "code",
   "execution_count": 27,
   "id": "b14b5bf7-d4e6-40d3-9720-0ad27e93d555",
   "metadata": {},
   "outputs": [
    {
     "ename": "NameError",
     "evalue": "name 'plt' is not defined",
     "output_type": "error",
     "traceback": [
      "\u001b[1;31m---------------------------------------------------------------------------\u001b[0m",
      "\u001b[1;31mNameError\u001b[0m                                 Traceback (most recent call last)",
      "\u001b[1;32m~\\AppData\\Local\\Temp/ipykernel_23036/1670878323.py\u001b[0m in \u001b[0;36m<module>\u001b[1;34m\u001b[0m\n\u001b[0;32m      3\u001b[0m \u001b[0mout\u001b[0m \u001b[1;33m=\u001b[0m \u001b[0mnet_keras\u001b[0m\u001b[1;33m(\u001b[0m\u001b[0minput_tf\u001b[0m\u001b[1;33m)\u001b[0m\u001b[1;33m\u001b[0m\u001b[0m\n\u001b[0;32m      4\u001b[0m \u001b[1;33m\u001b[0m\u001b[0m\n\u001b[1;32m----> 5\u001b[1;33m \u001b[0mplt\u001b[0m\u001b[1;33m.\u001b[0m\u001b[0mplot\u001b[0m\u001b[1;33m(\u001b[0m\u001b[0mout\u001b[0m\u001b[1;33m.\u001b[0m\u001b[0mnumpy\u001b[0m\u001b[1;33m(\u001b[0m\u001b[1;33m)\u001b[0m\u001b[1;33m.\u001b[0m\u001b[0mreshape\u001b[0m\u001b[1;33m(\u001b[0m\u001b[1;33m-\u001b[0m\u001b[1;36m1\u001b[0m\u001b[1;33m)\u001b[0m\u001b[1;33m)\u001b[0m\u001b[1;33m\u001b[0m\u001b[0m\n\u001b[0m\u001b[0;32m      6\u001b[0m \u001b[0mpprint\u001b[0m\u001b[1;33m(\u001b[0m\u001b[0mout\u001b[0m\u001b[1;33m.\u001b[0m\u001b[0mshape\u001b[0m\u001b[1;33m)\u001b[0m\u001b[1;33m\u001b[0m\u001b[0m\n",
      "\u001b[1;31mNameError\u001b[0m: name 'plt' is not defined"
     ]
    }
   ],
   "source": [
    "net_keras = Block_keras(6,9)\n",
    "# net_keras.evaluate()\n",
    "out = net_keras(input_tf)\n",
    "\n",
    "plt.plot(out.numpy().reshape(-1))\n",
    "pprint(out.shape)"
   ]
  },
  {
   "cell_type": "code",
   "execution_count": 308,
   "id": "80e569f4-ad3d-4d37-8338-f2e675675617",
   "metadata": {},
   "outputs": [
    {
     "data": {
      "text/plain": [
       "<tf.Variable 'block_keras_29/conv2d_55/kernel:0' shape=(3, 3, 3, 6) dtype=float32, numpy=\n",
       "array([[[[ 0.18833846, -0.2114314 , -0.21888985,  0.24996561,\n",
       "           0.01365486, -0.09539101],\n",
       "         [-0.01670459, -0.00737578, -0.04485196,  0.21871498,\n",
       "           0.09467041,  0.25905353],\n",
       "         [-0.13670616,  0.22950101, -0.06191194,  0.06467822,\n",
       "          -0.16757816,  0.02995732]],\n",
       "\n",
       "        [[ 0.20489347,  0.02156213, -0.23720162, -0.04894504,\n",
       "           0.09958681, -0.10422653],\n",
       "         [ 0.13757426,  0.00312027, -0.2110522 ,  0.0063515 ,\n",
       "           0.11608782,  0.17031455],\n",
       "         [ 0.05669269, -0.047204  , -0.24609567,  0.17098597,\n",
       "          -0.1759598 , -0.0231638 ]],\n",
       "\n",
       "        [[ 0.2055726 ,  0.03231937,  0.09521332,  0.24128509,\n",
       "           0.039702  ,  0.14980537],\n",
       "         [ 0.16726047, -0.01006895,  0.18145001, -0.2552848 ,\n",
       "          -0.16119345,  0.15715039],\n",
       "         [-0.23357567, -0.11267109, -0.05735923, -0.10030559,\n",
       "          -0.12077427,  0.16487092]]],\n",
       "\n",
       "\n",
       "       [[[ 0.1815001 , -0.22853181,  0.12272376, -0.22362138,\n",
       "          -0.02917054,  0.09019545],\n",
       "         [-0.26227635, -0.24618658, -0.26695377, -0.26799446,\n",
       "           0.2193355 , -0.09387025],\n",
       "         [ 0.07255962,  0.08497587, -0.21829975,  0.19781592,\n",
       "           0.19238839,  0.17955464]],\n",
       "\n",
       "        [[-0.20865005,  0.01116148, -0.18319027,  0.00314292,\n",
       "          -0.1221533 ,  0.21014667],\n",
       "         [-0.27002615,  0.0953995 ,  0.22139925,  0.2481072 ,\n",
       "           0.0583998 , -0.01731384],\n",
       "         [-0.15542634,  0.19602647, -0.19216439, -0.19927257,\n",
       "          -0.23387921, -0.21220073]],\n",
       "\n",
       "        [[ 0.0267213 , -0.06614421,  0.05885357,  0.11919746,\n",
       "          -0.2674205 , -0.03803143],\n",
       "         [-0.20280975, -0.23578462, -0.24864484, -0.19341844,\n",
       "           0.17674229,  0.12220308],\n",
       "         [ 0.13359556, -0.06398419, -0.19845302, -0.09549898,\n",
       "           0.23810261,  0.14792532]]],\n",
       "\n",
       "\n",
       "       [[[ 0.00535563, -0.09653629, -0.05973095, -0.15619904,\n",
       "          -0.10577108,  0.01118809],\n",
       "         [-0.08539499,  0.03382662, -0.1823569 ,  0.20533356,\n",
       "           0.258242  , -0.25966364],\n",
       "         [ 0.13706163, -0.07372938,  0.18723023,  0.2563495 ,\n",
       "           0.20189962, -0.0550811 ]],\n",
       "\n",
       "        [[ 0.06911251,  0.20419708,  0.21624023,  0.08072302,\n",
       "           0.09757569,  0.11218312],\n",
       "         [ 0.04511708,  0.19884917, -0.23904519,  0.11202273,\n",
       "          -0.00839901, -0.25641418],\n",
       "         [ 0.24246353, -0.19198686,  0.10532796, -0.05042815,\n",
       "          -0.02846415,  0.2344935 ]],\n",
       "\n",
       "        [[ 0.2124427 ,  0.0208514 , -0.12246095, -0.07656525,\n",
       "          -0.23696509,  0.20214868],\n",
       "         [-0.04515551,  0.19856852,  0.15195489, -0.18810187,\n",
       "          -0.10713343, -0.2148599 ],\n",
       "         [-0.21028306, -0.2577176 ,  0.04787341,  0.07591823,\n",
       "          -0.11914802, -0.11765362]]]], dtype=float32)>"
      ]
     },
     "execution_count": 308,
     "metadata": {},
     "output_type": "execute_result"
    }
   ],
   "source": [
    "net_keras.conv1.kernel"
   ]
  },
  {
   "cell_type": "code",
   "execution_count": 292,
   "id": "95015bc3-6258-4f2a-a282-9cfe243d9779",
   "metadata": {},
   "outputs": [],
   "source": [
    "for i in net_keras._get_layers:\n",
    "    i.kernel.assign(np.zeros((3,3,3,6)))\n",
    "#     print(i.kernel == )\n",
    "    \n",
    "    break"
   ]
  },
  {
   "cell_type": "code",
   "execution_count": 386,
   "id": "594d0d4f-ce60-405c-8d41-dfe3194b0ebf",
   "metadata": {},
   "outputs": [
    {
     "data": {
      "text/plain": [
       "<tf.Variable 'block_keras_49/conv2d_95/kernel:0' shape=(3, 3, 3, 6) dtype=float32, numpy=\n",
       "array([[[[-0.08791051, -0.07088611, -0.14306645, -0.09260382,\n",
       "           0.18218236, -0.1899313 ],\n",
       "         [ 0.12342013,  0.07781588,  0.10121669,  0.14611326,\n",
       "           0.19213332,  0.13422267],\n",
       "         [ 0.07746543,  0.04728223, -0.04359275,  0.00761864,\n",
       "          -0.04378612,  0.04149751]],\n",
       "\n",
       "        [[ 0.1754408 , -0.18558124,  0.06572665,  0.15790407,\n",
       "           0.14182822, -0.11565626],\n",
       "         [ 0.08856697,  0.08376415, -0.00708306, -0.0644621 ,\n",
       "          -0.15126687,  0.10449602],\n",
       "         [-0.07612159, -0.09350064,  0.02943389, -0.1776687 ,\n",
       "           0.15297969, -0.01063551]],\n",
       "\n",
       "        [[-0.1560988 , -0.10432889,  0.14075719, -0.08344249,\n",
       "           0.0821359 ,  0.03987215],\n",
       "         [ 0.12508558, -0.08452785, -0.01064467, -0.15334307,\n",
       "          -0.07882777,  0.0343374 ],\n",
       "         [-0.16945378,  0.1087418 , -0.02514997,  0.051456  ,\n",
       "          -0.08225667, -0.10767222]]],\n",
       "\n",
       "\n",
       "       [[[-0.17534289, -0.10738923, -0.01168285, -0.14365381,\n",
       "           0.11342831, -0.1850324 ],\n",
       "         [ 0.157712  ,  0.07625006,  0.00699326,  0.18015628,\n",
       "          -0.0997148 ,  0.05925964],\n",
       "         [-0.01153167, -0.08200916,  0.0260222 ,  0.00429206,\n",
       "          -0.11177596, -0.12259426]],\n",
       "\n",
       "        [[-0.15337032,  0.08444898, -0.09087905, -0.0381206 ,\n",
       "           0.04589458, -0.1383715 ],\n",
       "         [-0.1489721 , -0.01094647, -0.02871442, -0.13170187,\n",
       "          -0.17692186,  0.0900925 ],\n",
       "         [ 0.10485928, -0.07318018,  0.10840176,  0.12105365,\n",
       "          -0.07987341,  0.07264243]],\n",
       "\n",
       "        [[-0.12357362,  0.07973953,  0.06219162, -0.15008317,\n",
       "          -0.02731223, -0.1817993 ],\n",
       "         [ 0.06900953,  0.18851642, -0.05617644, -0.18434788,\n",
       "           0.07408978,  0.06804733],\n",
       "         [ 0.17122354,  0.1252258 ,  0.11854307, -0.18095142,\n",
       "           0.09046407,  0.03114477]]],\n",
       "\n",
       "\n",
       "       [[[ 0.01075387, -0.00784531,  0.0265162 ,  0.06775118,\n",
       "          -0.07003221,  0.07782628],\n",
       "         [ 0.1238711 ,  0.05641083, -0.10825047, -0.01440836,\n",
       "           0.09897558, -0.1642668 ],\n",
       "         [-0.06966881, -0.06005383,  0.03904364, -0.17409861,\n",
       "          -0.13175654,  0.1670637 ]],\n",
       "\n",
       "        [[-0.18976955,  0.13122045,  0.1238551 ,  0.09304492,\n",
       "          -0.08869746,  0.05953549],\n",
       "         [ 0.03733011,  0.02562055, -0.07724363, -0.05294992,\n",
       "          -0.11377842,  0.11702873],\n",
       "         [-0.15478049,  0.17843784,  0.00302061, -0.05942863,\n",
       "          -0.06540427,  0.14899652]],\n",
       "\n",
       "        [[ 0.06538369,  0.12530969,  0.00813185, -0.11167282,\n",
       "           0.07538708,  0.07886891],\n",
       "         [-0.17903219,  0.07872982, -0.11913674, -0.06799264,\n",
       "          -0.10974476,  0.1840897 ],\n",
       "         [ 0.06171824,  0.07621701,  0.11435796,  0.17097948,\n",
       "           0.13052593,  0.04735388]]]], dtype=float32)>"
      ]
     },
     "execution_count": 386,
     "metadata": {},
     "output_type": "execute_result"
    }
   ],
   "source": [
    "net_keras.conv1.kernel"
   ]
  },
  {
   "cell_type": "code",
   "execution_count": 109,
   "id": "4c9a0f98-151a-498d-98e4-92138cf5f761",
   "metadata": {},
   "outputs": [
    {
     "data": {
      "text/plain": [
       "<tf.Variable 'block_keras_13/conv2d_24/kernel:0' shape=(3, 3, 6, 9) dtype=float32, numpy=\n",
       "array([[[[1., 1., 1., 1., 1., 1., 1., 1., 1.],\n",
       "         [1., 1., 1., 1., 1., 1., 1., 1., 1.],\n",
       "         [1., 1., 1., 1., 1., 1., 1., 1., 1.],\n",
       "         [1., 1., 1., 1., 1., 1., 1., 1., 1.],\n",
       "         [1., 1., 1., 1., 1., 1., 1., 1., 1.],\n",
       "         [1., 1., 1., 1., 1., 1., 1., 1., 1.]],\n",
       "\n",
       "        [[1., 1., 1., 1., 1., 1., 1., 1., 1.],\n",
       "         [1., 1., 1., 1., 1., 1., 1., 1., 1.],\n",
       "         [1., 1., 1., 1., 1., 1., 1., 1., 1.],\n",
       "         [1., 1., 1., 1., 1., 1., 1., 1., 1.],\n",
       "         [1., 1., 1., 1., 1., 1., 1., 1., 1.],\n",
       "         [1., 1., 1., 1., 1., 1., 1., 1., 1.]],\n",
       "\n",
       "        [[1., 1., 1., 1., 1., 1., 1., 1., 1.],\n",
       "         [1., 1., 1., 1., 1., 1., 1., 1., 1.],\n",
       "         [1., 1., 1., 1., 1., 1., 1., 1., 1.],\n",
       "         [1., 1., 1., 1., 1., 1., 1., 1., 1.],\n",
       "         [1., 1., 1., 1., 1., 1., 1., 1., 1.],\n",
       "         [1., 1., 1., 1., 1., 1., 1., 1., 1.]]],\n",
       "\n",
       "\n",
       "       [[[1., 1., 1., 1., 1., 1., 1., 1., 1.],\n",
       "         [1., 1., 1., 1., 1., 1., 1., 1., 1.],\n",
       "         [1., 1., 1., 1., 1., 1., 1., 1., 1.],\n",
       "         [1., 1., 1., 1., 1., 1., 1., 1., 1.],\n",
       "         [1., 1., 1., 1., 1., 1., 1., 1., 1.],\n",
       "         [1., 1., 1., 1., 1., 1., 1., 1., 1.]],\n",
       "\n",
       "        [[1., 1., 1., 1., 1., 1., 1., 1., 1.],\n",
       "         [1., 1., 1., 1., 1., 1., 1., 1., 1.],\n",
       "         [1., 1., 1., 1., 1., 1., 1., 1., 1.],\n",
       "         [1., 1., 1., 1., 1., 1., 1., 1., 1.],\n",
       "         [1., 1., 1., 1., 1., 1., 1., 1., 1.],\n",
       "         [1., 1., 1., 1., 1., 1., 1., 1., 1.]],\n",
       "\n",
       "        [[1., 1., 1., 1., 1., 1., 1., 1., 1.],\n",
       "         [1., 1., 1., 1., 1., 1., 1., 1., 1.],\n",
       "         [1., 1., 1., 1., 1., 1., 1., 1., 1.],\n",
       "         [1., 1., 1., 1., 1., 1., 1., 1., 1.],\n",
       "         [1., 1., 1., 1., 1., 1., 1., 1., 1.],\n",
       "         [1., 1., 1., 1., 1., 1., 1., 1., 1.]]],\n",
       "\n",
       "\n",
       "       [[[1., 1., 1., 1., 1., 1., 1., 1., 1.],\n",
       "         [1., 1., 1., 1., 1., 1., 1., 1., 1.],\n",
       "         [1., 1., 1., 1., 1., 1., 1., 1., 1.],\n",
       "         [1., 1., 1., 1., 1., 1., 1., 1., 1.],\n",
       "         [1., 1., 1., 1., 1., 1., 1., 1., 1.],\n",
       "         [1., 1., 1., 1., 1., 1., 1., 1., 1.]],\n",
       "\n",
       "        [[1., 1., 1., 1., 1., 1., 1., 1., 1.],\n",
       "         [1., 1., 1., 1., 1., 1., 1., 1., 1.],\n",
       "         [1., 1., 1., 1., 1., 1., 1., 1., 1.],\n",
       "         [1., 1., 1., 1., 1., 1., 1., 1., 1.],\n",
       "         [1., 1., 1., 1., 1., 1., 1., 1., 1.],\n",
       "         [1., 1., 1., 1., 1., 1., 1., 1., 1.]],\n",
       "\n",
       "        [[1., 1., 1., 1., 1., 1., 1., 1., 1.],\n",
       "         [1., 1., 1., 1., 1., 1., 1., 1., 1.],\n",
       "         [1., 1., 1., 1., 1., 1., 1., 1., 1.],\n",
       "         [1., 1., 1., 1., 1., 1., 1., 1., 1.],\n",
       "         [1., 1., 1., 1., 1., 1., 1., 1., 1.],\n",
       "         [1., 1., 1., 1., 1., 1., 1., 1., 1.]]]], dtype=float32)>"
      ]
     },
     "execution_count": 110,
     "metadata": {},
     "output_type": "execute_result"
    }
   ],
   "source": [
    "net_keras.conv2.kernel.assign(np.ones((3,3,6,9)))"
   ]
  },
  {
   "cell_type": "code",
   "execution_count": 56,
   "id": "a5739566-b12a-40de-a554-52d211fc408b",
   "metadata": {},
   "outputs": [
    {
     "name": "stdout",
     "output_type": "stream",
     "text": [
      "[<tensorflow.python.keras.layers.convolutional.Conv2D object at 0x000002184139B978>,\n",
      " <tensorflow.python.keras.layers.convolutional.Conv2D object at 0x000002184139B4E0>,\n",
      " <tensorflow.python.keras.layers.normalization_v2.BatchNormalization object at 0x000002184137D898>,\n",
      " <tensorflow.python.keras.layers.normalization_v2.BatchNormalization object at 0x000002184137DB38>]\n"
     ]
    }
   ],
   "source": [
    "pprint(net_keras.layers)"
   ]
  },
  {
   "cell_type": "code",
   "execution_count": 73,
   "id": "ba909da4-33e4-4ede-81c8-3ee2fb115a31",
   "metadata": {},
   "outputs": [],
   "source": [
    "net_keras.save_weights(\"net_keras.params\")"
   ]
  },
  {
   "cell_type": "code",
   "execution_count": 28,
   "id": "f8300431-547f-4e46-b967-6d554f92913f",
   "metadata": {},
   "outputs": [],
   "source": [
    "class Block_torch2(torch.nn.Module):\n",
    "    \"\"\"Create Block convlution for Encode. Use layers convlution\n",
    "\n",
    "    Args:\n",
    "        torch ([Module pytorch]): [create block conv with class Module of pytorch]\n",
    "    \"\"\"\n",
    "    def __init__(self, in_channels, mid_channel, out_channels):\n",
    "        super().__init__()\n",
    "        \n",
    "        self.conv1 = torch.nn.Conv2d(in_channels=in_channels, out_channels=mid_channel, kernel_size=(3,3), padding=1)\n",
    "        self.conv2 = torch.nn.Conv2d(in_channels=mid_channel, out_channels=out_channels, kernel_size=3, padding=1)\n",
    "        \n",
    "        self.bn1 = torch.nn.BatchNorm2d(mid_channel)\n",
    "        self.bn2 = torch.nn.BatchNorm2d(out_channels)\n",
    "            \n",
    "    def forward(self, x):\n",
    "        x = torch.relu(self.bn1(self.conv1(x)))\n",
    "        x = torch.relu(self.bn2(self.conv2(x)))\n",
    "#         x = self.bn1(self.conv1(x))\n",
    "#         x = self.conv2(x)\n",
    "        \n",
    "        return x \n",
    "    \n",
    "    @property\n",
    "    def _get_layers(self):\n",
    "        name_layer = [\"conv1\", \"conv2\"]\n",
    "        \n",
    "        [getattr(self, i) for i in name_layer]\n",
    "        \n",
    "        return [getattr(self, i) for i in name_layer]"
   ]
  },
  {
   "cell_type": "code",
   "execution_count": null,
   "id": "45b2d25f-7ed6-4713-8584-d0f13d80e883",
   "metadata": {},
   "outputs": [],
   "source": []
  },
  {
   "cell_type": "code",
   "execution_count": 29,
   "id": "73ce356c-fe58-4141-9e3c-36e60b81a594",
   "metadata": {},
   "outputs": [],
   "source": [
    "class Block_torch(torch.nn.Module):\n",
    "    \"\"\"Create Block convlution for Encode. Use layers convlution\n",
    "\n",
    "    Args:\n",
    "        torch ([Module pytorch]): [create block conv with class Module of pytorch]\n",
    "    \"\"\"\n",
    "    def __init__(self, in_channels, mid_channel, out_channels):\n",
    "        super().__init__()\n",
    "        \n",
    "        self.conv1 = torch.nn.Conv2d(in_channels=in_channels, out_channels=mid_channel, kernel_size=(3,3), padding=1)\n",
    "        self.conv2 = torch.nn.Conv2d(in_channels=mid_channel, out_channels=out_channels, kernel_size=3, padding=1)\n",
    "#         self.block2 = Block_torch2(2,3,4)\n",
    "        \n",
    "        self.bn1 = torch.nn.BatchNorm2d(mid_channel)\n",
    "        self.bn2 = torch.nn.BatchNorm2d(out_channels)\n",
    "            \n",
    "    def forward(self, x):\n",
    "        x = torch.relu(self.bn1(self.conv1(x)))\n",
    "        x = torch.relu(self.bn2(self.conv2(x)))\n",
    "#         x = self.bn1(self.conv1(x))\n",
    "#         x = self.conv2(x)\n",
    "        \n",
    "        return x \n",
    "    \n",
    "    @property\n",
    "    def _get_layers(self):\n",
    "        name_layer = [\"conv1\", \"conv2\"]\n",
    "        \n",
    "        [getattr(self, i) for i in name_layer]\n",
    "        \n",
    "        return [getattr(self, i) for i in name_layer]"
   ]
  },
  {
   "cell_type": "code",
   "execution_count": 30,
   "id": "d8107586-6e1d-4986-8496-0367e8fb5226",
   "metadata": {},
   "outputs": [
    {
     "name": "stdout",
     "output_type": "stream",
     "text": [
      "Block_torch(\n",
      "  (conv1): Conv2d(3, 6, kernel_size=(3, 3), stride=(1, 1), padding=(1, 1))\n",
      "  (conv2): Conv2d(6, 9, kernel_size=(3, 3), stride=(1, 1), padding=(1, 1))\n",
      "  (bn1): BatchNorm2d(6, eps=1e-05, momentum=0.1, affine=True, track_running_stats=True)\n",
      "  (bn2): BatchNorm2d(9, eps=1e-05, momentum=0.1, affine=True, track_running_stats=True)\n",
      ")\n"
     ]
    }
   ],
   "source": [
    "net_torch = Block_torch(3,6,9)\n",
    "print(net_torch)"
   ]
  },
  {
   "cell_type": "code",
   "execution_count": 31,
   "id": "fb38fa1b-e1d0-48e9-a3ba-a034040fb042",
   "metadata": {},
   "outputs": [
    {
     "data": {
      "text/plain": [
       "[Conv2d(3, 6, kernel_size=(3, 3), stride=(1, 1), padding=(1, 1)),\n",
       " Conv2d(6, 9, kernel_size=(3, 3), stride=(1, 1), padding=(1, 1))]"
      ]
     },
     "execution_count": 31,
     "metadata": {},
     "output_type": "execute_result"
    }
   ],
   "source": [
    "net_torch._get_layers"
   ]
  },
  {
   "cell_type": "code",
   "execution_count": 32,
   "id": "45227e39-8609-41a6-aed2-b3f64c01aabd",
   "metadata": {},
   "outputs": [
    {
     "ename": "NameError",
     "evalue": "name 'plt' is not defined",
     "output_type": "error",
     "traceback": [
      "\u001b[1;31m---------------------------------------------------------------------------\u001b[0m",
      "\u001b[1;31mNameError\u001b[0m                                 Traceback (most recent call last)",
      "\u001b[1;32m~\\AppData\\Local\\Temp/ipykernel_23036/2598006761.py\u001b[0m in \u001b[0;36m<module>\u001b[1;34m\u001b[0m\n\u001b[0;32m      1\u001b[0m \u001b[0mnet_torch\u001b[0m\u001b[1;33m.\u001b[0m\u001b[0meval\u001b[0m\u001b[1;33m(\u001b[0m\u001b[1;33m)\u001b[0m\u001b[1;33m\u001b[0m\u001b[0m\n\u001b[0;32m      2\u001b[0m \u001b[0mout_t\u001b[0m \u001b[1;33m=\u001b[0m \u001b[0mnet_torch\u001b[0m\u001b[1;33m(\u001b[0m\u001b[0minput_torch\u001b[0m\u001b[1;33m)\u001b[0m\u001b[1;33m\u001b[0m\u001b[0m\n\u001b[1;32m----> 3\u001b[1;33m \u001b[0mplt\u001b[0m\u001b[1;33m.\u001b[0m\u001b[0mplot\u001b[0m\u001b[1;33m(\u001b[0m\u001b[0mout_t\u001b[0m\u001b[1;33m.\u001b[0m\u001b[0mdetach\u001b[0m\u001b[1;33m(\u001b[0m\u001b[1;33m)\u001b[0m\u001b[1;33m.\u001b[0m\u001b[0mnumpy\u001b[0m\u001b[1;33m(\u001b[0m\u001b[1;33m)\u001b[0m\u001b[1;33m.\u001b[0m\u001b[0mreshape\u001b[0m\u001b[1;33m(\u001b[0m\u001b[1;33m-\u001b[0m\u001b[1;36m1\u001b[0m\u001b[1;33m)\u001b[0m\u001b[1;33m)\u001b[0m\u001b[1;33m\u001b[0m\u001b[0m\n\u001b[0m",
      "\u001b[1;31mNameError\u001b[0m: name 'plt' is not defined"
     ]
    }
   ],
   "source": [
    "net_torch.eval()\n",
    "out_t = net_torch(input_torch)\n",
    "plt.plot(out_t.detach().numpy().reshape(-1))"
   ]
  },
  {
   "cell_type": "code",
   "execution_count": 389,
   "id": "80567097-1d43-4a7a-9bb1-37b2aa9eadb2",
   "metadata": {},
   "outputs": [
    {
     "data": {
      "text/plain": [
       "torch.float32"
      ]
     },
     "execution_count": 389,
     "metadata": {},
     "output_type": "execute_result"
    }
   ],
   "source": [
    "list(net_torch.conv1.parameters())[0].dtype"
   ]
  },
  {
   "cell_type": "code",
   "execution_count": 35,
   "id": "7ef2ab68-849d-4f72-a64e-e05ccf1abad6",
   "metadata": {},
   "outputs": [],
   "source": [
    "def change_to_param_tf(param):\n",
    "#     print(param.shape)\n",
    "#     print(param.detach().numpy())\n",
    "    param_tf = param.detach().numpy().transpose(2, 3, 1, 0)\n",
    "    \n",
    "#     print(np.unique(param.detach().numpy().transpose(2, 3, 1, 0)))\n",
    "#     print(np.unique(param_tf))\n",
    "#     print(param_tf)\n",
    "    return param_tf"
   ]
  },
  {
   "cell_type": "code",
   "execution_count": 36,
   "id": "6239425e-9353-4d6c-a616-06a8dfe32c11",
   "metadata": {},
   "outputs": [
    {
     "ename": "TypeError",
     "evalue": "'list' object is not callable",
     "output_type": "error",
     "traceback": [
      "\u001b[1;31m---------------------------------------------------------------------------\u001b[0m",
      "\u001b[1;31mTypeError\u001b[0m                                 Traceback (most recent call last)",
      "\u001b[1;32m~\\AppData\\Local\\Temp/ipykernel_23036/3016837684.py\u001b[0m in \u001b[0;36m<module>\u001b[1;34m\u001b[0m\n\u001b[1;32m----> 1\u001b[1;33m \u001b[0mnet_torch\u001b[0m\u001b[1;33m.\u001b[0m\u001b[0m_get_layers\u001b[0m\u001b[1;33m(\u001b[0m\u001b[1;33m)\u001b[0m\u001b[1;33m\u001b[0m\u001b[0m\n\u001b[0m",
      "\u001b[1;31mTypeError\u001b[0m: 'list' object is not callable"
     ]
    }
   ],
   "source": [
    "net_torch._get_layers()"
   ]
  },
  {
   "cell_type": "code",
   "execution_count": 44,
   "id": "20affbae-a2b3-4326-b76d-a684827eb355",
   "metadata": {},
   "outputs": [],
   "source": [
    "def tranfer_params(net_tf, net_torch, width, height, channel, batch=1):\n",
    "    for layer_k, layer_t in zip(net_tf._get_layers, net_torch._get_layers):\n",
    "        param_t = list(layer_t.parameters())\n",
    "        \n",
    "        param_kernel_k = change_to_param_tf(param_t[0])\n",
    "#         print(param_kernel_k)\n",
    "        layer_k.kernel.assign(param_kernel_k)\n",
    "        layer_k.bias.assign(param_t[1].detach().numpy())\n",
    "    \n",
    "    \"\"\"\n",
    "    check_model\n",
    "    \"\"\"\n",
    "    input_tf = np.random.rand(batch,width,height,channel).astype(\"float32\")\n",
    "    print(input_tf.shape)\n",
    "#     print(input_tf.shape)\n",
    "    input_torch = torch.from_numpy(input_tf.transpose(0,3,1,2))\n",
    "    \n",
    "    with torch.no_grad():\n",
    "        torch_output = net_torch(input_torch)\n",
    "    tf_output = net_tf(input_tf)\n",
    "    \n",
    "#     print(tf_output.numpy())\n",
    "#     print(np.transpose(torch_output.numpy(),(0, 2, 3, 1)))\n",
    "    print(tf_output.numpy().dtype)\n",
    "    print(np.transpose(torch_output.numpy(),(0, 2, 3, 1)).dtype)\n",
    "    true_count = np.count_nonzero(tf_output.numpy() == np.transpose(torch_output.numpy(),(0, 2, 3, 1)))\n",
    "    all_count = np.size(torch_output.numpy())\n",
    "    \n",
    "    plt.plot(tf_output.numpy().reshape(-1))\n",
    "    plt.show()\n",
    "    plt.plot(np.transpose(torch_output.numpy(),(0, 2, 3, 1)).reshape(-1))\n",
    "    plt.show()\n",
    "    \n",
    "    print(true_count/all_count)\n",
    "                       \n",
    "    "
   ]
  },
  {
   "cell_type": "code",
   "execution_count": 45,
   "id": "da6ffbe6-9c60-4a15-a1c3-3a0ae1b8e632",
   "metadata": {},
   "outputs": [
    {
     "name": "stdout",
     "output_type": "stream",
     "text": [
      "(1, 300, 300, 3)\n",
      "float32\n",
      "float32\n"
     ]
    },
    {
     "data": {
      "image/png": "[encoded data removed]",
      "text/plain": [
       "<Figure size 432x288 with 1 Axes>"
      ]
     },
     "metadata": {
      "needs_background": "light"
     },
     "output_type": "display_data"
    },
    {
     "data": {
      "image/png": "[encoded data removed]",
      "text/plain": [
       "<Figure size 432x288 with 1 Axes>"
      ]
     },
     "metadata": {
      "needs_background": "light"
     },
     "output_type": "display_data"
    },
    {
     "name": "stdout",
     "output_type": "stream",
     "text": [
      "0.5442481481481481\n"
     ]
    }
   ],
   "source": [
    "tranfer_params(net_keras, net_torch, 300,300,3)"
   ]
  },
  {
   "cell_type": "code",
   "execution_count": 221,
   "id": "cff4eb8a-34b5-46c5-b020-90472410b372",
   "metadata": {},
   "outputs": [
    {
     "ename": "NameError",
     "evalue": "name 'true_count' is not defined",
     "output_type": "error",
     "traceback": [
      "\u001b[1;31m---------------------------------------------------------------------------\u001b[0m",
      "\u001b[1;31mNameError\u001b[0m                                 Traceback (most recent call last)",
      "\u001b[1;32m~\\AppData\\Local\\Temp/ipykernel_18400/3360810180.py\u001b[0m in \u001b[0;36m<module>\u001b[1;34m\u001b[0m\n\u001b[1;32m----> 1\u001b[1;33m \u001b[0mtrue_count\u001b[0m\u001b[1;33m\u001b[0m\u001b[0m\n\u001b[0m",
      "\u001b[1;31mNameError\u001b[0m: name 'true_count' is not defined"
     ]
    }
   ],
   "source": [
    "true_count"
   ]
  },
  {
   "cell_type": "code",
   "execution_count": 203,
   "id": "cc345934-e344-4c45-a1a1-691c9d8ffa6d",
   "metadata": {},
   "outputs": [
    {
     "ename": "NameError",
     "evalue": "name 'plt' is not defined",
     "output_type": "error",
     "traceback": [
      "\u001b[1;31m---------------------------------------------------------------------------\u001b[0m",
      "\u001b[1;31mNameError\u001b[0m                                 Traceback (most recent call last)",
      "\u001b[1;32m~\\AppData\\Local\\Temp/ipykernel_18400/1859966962.py\u001b[0m in \u001b[0;36m<module>\u001b[1;34m\u001b[0m\n\u001b[1;32m----> 1\u001b[1;33m \u001b[0mplt\u001b[0m\u001b[1;33m\u001b[0m\u001b[0m\n\u001b[0m",
      "\u001b[1;31mNameError\u001b[0m: name 'plt' is not defined"
     ]
    }
   ],
   "source": [
    "plt"
   ]
  },
  {
   "cell_type": "code",
   "execution_count": 43,
   "id": "19da343b-4cd3-42d2-89f7-6676ae113ddf",
   "metadata": {},
   "outputs": [],
   "source": [
    "import matplotlib.pyplot as plt \n",
    "#"
   ]
  },
  {
   "cell_type": "code",
   "execution_count": 46,
   "id": "958e142f-ed05-47b7-8d17-45d0bf014441",
   "metadata": {},
   "outputs": [
    {
     "name": "stdout",
     "output_type": "stream",
     "text": [
      "INFO:tensorflow:Assets written to: C:\\Users\\duong\\AppData\\Local\\Temp\\tmpbt8coacg\\assets\n"
     ]
    }
   ],
   "source": [
    "converter = tf.lite.TFLiteConverter.from_keras_model(net_keras)\n",
    "tflite_model = converter.convert()"
   ]
  },
  {
   "cell_type": "code",
   "execution_count": null,
   "id": "3f76cdf2-73fc-45ab-b275-e51bee9e0369",
   "metadata": {},
   "outputs": [],
   "source": []
  }
 ],
 "metadata": {
  "kernelspec": {
   "display_name": "Python 3 (ipykernel)",
   "language": "python",
   "name": "python3"
  },
  "language_info": {
   "codemirror_mode": {
    "name": "ipython",
    "version": 3
   },
   "file_extension": ".py",
   "mimetype": "text/x-python",
   "name": "python",
   "nbconvert_exporter": "python",
   "pygments_lexer": "ipython3",
   "version": "3.7.0"
  }
 },
 "nbformat": 4,
 "nbformat_minor": 5
}
